{
 "cells": [
  {
   "cell_type": "code",
   "execution_count": 1,
   "metadata": {
    "collapsed": true
   },
   "outputs": [],
   "source": [
    "import matplotlib\n",
    "import numpy as np\n",
    "import matplotlib.pyplot as plt\n",
    "import pandas as pd\n",
    "import json\n",
    "import nltk\n",
    "from collections import Counter\n",
    "import seaborn as sns\n",
    "import datetime\n",
    "import calendar\n",
    "import re\n",
    "import string\n",
    "\n",
    "matplotlib.rcParams['figure.figsize'] = [15, 7]\n",
    "pd.options.mode.chained_assignment = None  # default='warn'"
   ]
  },
  {
   "cell_type": "markdown",
   "metadata": {},
   "source": [
    "# Loading our dataset\n",
    "The data set is provided by yelp as json files. We will use pandas read_json function to read our json files into dataframes. After we've built our dataframes, we will then examine the data frame and find a business that we would like to examine and apply NLP on."
   ]
  },
  {
   "cell_type": "code",
   "execution_count": 5,
   "metadata": {},
   "outputs": [],
   "source": [
    "# Load business data\n",
    "\n",
    "# Mac Directory\n",
    "business_df = pd.read_json(\"../../DataScience/yelp_dataset/business.json\", lines=True)"
   ]
  },
  {
   "cell_type": "code",
   "execution_count": 6,
   "metadata": {},
   "outputs": [],
   "source": [
    "with open('../../DataScience/yelp_dataset/review.json') as json_file:      \n",
    "    data = json_file.readlines()\n",
    "    data = list(map(json.loads, data)) \n",
    "\n",
    "review_df = pd.DataFrame(data)"
   ]
  },
  {
   "cell_type": "markdown",
   "metadata": {},
   "source": [
    "# Make copies of our dataframes\n",
    "We do this so we won't accidentaly broadcast any thing and whip our dataframes"
   ]
  },
  {
   "cell_type": "code",
   "execution_count": 8,
   "metadata": {
    "collapsed": true
   },
   "outputs": [],
   "source": [
    "# Make copy of the df, so we don't overwrite the orignal data\n",
    "copy_business = pd.DataFrame.copy(business_df)"
   ]
  },
  {
   "cell_type": "code",
   "execution_count": 9,
   "metadata": {
    "collapsed": true
   },
   "outputs": [],
   "source": [
    "copy_review = pd.DataFrame.copy(review_df)"
   ]
  },
  {
   "cell_type": "code",
   "execution_count": null,
   "metadata": {
    "collapsed": true
   },
   "outputs": [],
   "source": []
  },
  {
   "cell_type": "code",
   "execution_count": null,
   "metadata": {
    "collapsed": true
   },
   "outputs": [],
   "source": []
  },
  {
   "cell_type": "markdown",
   "metadata": {},
   "source": [
    "# What is our target business?\n",
    "We will begin analysis our dataset by using panda's built in fuctions. This will allow us to get a high level view of our data and what it consist of. This will help us determine what types of methods we will use to select the right business to use."
   ]
  },
  {
   "cell_type": "code",
   "execution_count": 10,
   "metadata": {},
   "outputs": [
    {
     "name": "stdout",
     "output_type": "stream",
     "text": [
      "<class 'pandas.core.frame.DataFrame'>\n",
      "RangeIndex: 4736897 entries, 0 to 4736896\n",
      "Data columns (total 9 columns):\n",
      "business_id    object\n",
      "cool           int64\n",
      "date           object\n",
      "funny          int64\n",
      "review_id      object\n",
      "stars          int64\n",
      "text           object\n",
      "useful         int64\n",
      "user_id        object\n",
      "dtypes: int64(4), object(5)\n",
      "memory usage: 325.3+ MB\n"
     ]
    }
   ],
   "source": [
    "review_df.info()"
   ]
  },
  {
   "cell_type": "code",
   "execution_count": 11,
   "metadata": {},
   "outputs": [
    {
     "data": {
      "text/html": [
       "<div>\n",
       "<style>\n",
       "    .dataframe thead tr:only-child th {\n",
       "        text-align: right;\n",
       "    }\n",
       "\n",
       "    .dataframe thead th {\n",
       "        text-align: left;\n",
       "    }\n",
       "\n",
       "    .dataframe tbody tr th {\n",
       "        vertical-align: top;\n",
       "    }\n",
       "</style>\n",
       "<table border=\"1\" class=\"dataframe\">\n",
       "  <thead>\n",
       "    <tr style=\"text-align: right;\">\n",
       "      <th></th>\n",
       "      <th>business_id</th>\n",
       "      <th>cool</th>\n",
       "      <th>date</th>\n",
       "      <th>funny</th>\n",
       "      <th>review_id</th>\n",
       "      <th>stars</th>\n",
       "      <th>text</th>\n",
       "      <th>useful</th>\n",
       "      <th>user_id</th>\n",
       "    </tr>\n",
       "  </thead>\n",
       "  <tbody>\n",
       "    <tr>\n",
       "      <th>0</th>\n",
       "      <td>uYHaNptLzDLoV_JZ_MuzUA</td>\n",
       "      <td>0</td>\n",
       "      <td>2016-07-12</td>\n",
       "      <td>0</td>\n",
       "      <td>VfBHSwC5Vz_pbFluy07i9Q</td>\n",
       "      <td>5</td>\n",
       "      <td>My girlfriend and I stayed here for 3 nights a...</td>\n",
       "      <td>0</td>\n",
       "      <td>cjpdDjZyprfyDG3RlkVG3w</td>\n",
       "    </tr>\n",
       "    <tr>\n",
       "      <th>1</th>\n",
       "      <td>uYHaNptLzDLoV_JZ_MuzUA</td>\n",
       "      <td>0</td>\n",
       "      <td>2016-10-02</td>\n",
       "      <td>0</td>\n",
       "      <td>3zRpneRKDsOPq92tq7ybAA</td>\n",
       "      <td>3</td>\n",
       "      <td>If you need an inexpensive place to stay for a...</td>\n",
       "      <td>0</td>\n",
       "      <td>bjTcT8Ty4cJZhEOEo01FGA</td>\n",
       "    </tr>\n",
       "    <tr>\n",
       "      <th>2</th>\n",
       "      <td>uYHaNptLzDLoV_JZ_MuzUA</td>\n",
       "      <td>0</td>\n",
       "      <td>2015-09-17</td>\n",
       "      <td>0</td>\n",
       "      <td>ne5WhI1jUFOcRn-b-gAzHA</td>\n",
       "      <td>3</td>\n",
       "      <td>Mittlerweile gibt es in Edinburgh zwei Ableger...</td>\n",
       "      <td>0</td>\n",
       "      <td>AXgRULmWcME7J6Ix3I--ww</td>\n",
       "    </tr>\n",
       "    <tr>\n",
       "      <th>3</th>\n",
       "      <td>uYHaNptLzDLoV_JZ_MuzUA</td>\n",
       "      <td>0</td>\n",
       "      <td>2016-08-21</td>\n",
       "      <td>0</td>\n",
       "      <td>llmdwOgDReucVoWEry61Lw</td>\n",
       "      <td>4</td>\n",
       "      <td>Location is everything and this hotel has it! ...</td>\n",
       "      <td>0</td>\n",
       "      <td>oU2SSOmsp_A8JYI7Z2JJ5w</td>\n",
       "    </tr>\n",
       "    <tr>\n",
       "      <th>4</th>\n",
       "      <td>uYHaNptLzDLoV_JZ_MuzUA</td>\n",
       "      <td>0</td>\n",
       "      <td>2013-11-20</td>\n",
       "      <td>0</td>\n",
       "      <td>DuffS87NaSMDmIfluvT83g</td>\n",
       "      <td>5</td>\n",
       "      <td>gute lage im stadtzentrum. shoppingmeile und s...</td>\n",
       "      <td>0</td>\n",
       "      <td>0xtbPEna2Kei11vsU-U2Mw</td>\n",
       "    </tr>\n",
       "  </tbody>\n",
       "</table>\n",
       "</div>"
      ],
      "text/plain": [
       "              business_id  cool        date  funny               review_id  \\\n",
       "0  uYHaNptLzDLoV_JZ_MuzUA     0  2016-07-12      0  VfBHSwC5Vz_pbFluy07i9Q   \n",
       "1  uYHaNptLzDLoV_JZ_MuzUA     0  2016-10-02      0  3zRpneRKDsOPq92tq7ybAA   \n",
       "2  uYHaNptLzDLoV_JZ_MuzUA     0  2015-09-17      0  ne5WhI1jUFOcRn-b-gAzHA   \n",
       "3  uYHaNptLzDLoV_JZ_MuzUA     0  2016-08-21      0  llmdwOgDReucVoWEry61Lw   \n",
       "4  uYHaNptLzDLoV_JZ_MuzUA     0  2013-11-20      0  DuffS87NaSMDmIfluvT83g   \n",
       "\n",
       "   stars                                               text  useful  \\\n",
       "0      5  My girlfriend and I stayed here for 3 nights a...       0   \n",
       "1      3  If you need an inexpensive place to stay for a...       0   \n",
       "2      3  Mittlerweile gibt es in Edinburgh zwei Ableger...       0   \n",
       "3      4  Location is everything and this hotel has it! ...       0   \n",
       "4      5  gute lage im stadtzentrum. shoppingmeile und s...       0   \n",
       "\n",
       "                  user_id  \n",
       "0  cjpdDjZyprfyDG3RlkVG3w  \n",
       "1  bjTcT8Ty4cJZhEOEo01FGA  \n",
       "2  AXgRULmWcME7J6Ix3I--ww  \n",
       "3  oU2SSOmsp_A8JYI7Z2JJ5w  \n",
       "4  0xtbPEna2Kei11vsU-U2Mw  "
      ]
     },
     "execution_count": 11,
     "metadata": {},
     "output_type": "execute_result"
    }
   ],
   "source": [
    "copy_review.head()"
   ]
  },
  {
   "cell_type": "code",
   "execution_count": 12,
   "metadata": {},
   "outputs": [
    {
     "data": {
      "text/html": [
       "<div>\n",
       "<style>\n",
       "    .dataframe thead tr:only-child th {\n",
       "        text-align: right;\n",
       "    }\n",
       "\n",
       "    .dataframe thead th {\n",
       "        text-align: left;\n",
       "    }\n",
       "\n",
       "    .dataframe tbody tr th {\n",
       "        vertical-align: top;\n",
       "    }\n",
       "</style>\n",
       "<table border=\"1\" class=\"dataframe\">\n",
       "  <thead>\n",
       "    <tr style=\"text-align: right;\">\n",
       "      <th></th>\n",
       "      <th>address</th>\n",
       "      <th>attributes</th>\n",
       "      <th>business_id</th>\n",
       "      <th>categories</th>\n",
       "      <th>city</th>\n",
       "      <th>hours</th>\n",
       "      <th>is_open</th>\n",
       "      <th>latitude</th>\n",
       "      <th>longitude</th>\n",
       "      <th>name</th>\n",
       "      <th>neighborhood</th>\n",
       "      <th>postal_code</th>\n",
       "      <th>review_count</th>\n",
       "      <th>stars</th>\n",
       "      <th>state</th>\n",
       "    </tr>\n",
       "  </thead>\n",
       "  <tbody>\n",
       "    <tr>\n",
       "      <th>0</th>\n",
       "      <td>691 Richmond Rd</td>\n",
       "      <td>{'RestaurantsPriceRange2': 2, 'BusinessParking...</td>\n",
       "      <td>YDf95gJZaq05wvo7hTQbbQ</td>\n",
       "      <td>[Shopping, Shopping Centers]</td>\n",
       "      <td>Richmond Heights</td>\n",
       "      <td>{'Monday': '10:00-21:00', 'Tuesday': '10:00-21...</td>\n",
       "      <td>1</td>\n",
       "      <td>41.541716</td>\n",
       "      <td>-81.493116</td>\n",
       "      <td>Richmond Town Square</td>\n",
       "      <td></td>\n",
       "      <td>44143</td>\n",
       "      <td>17</td>\n",
       "      <td>2.0</td>\n",
       "      <td>OH</td>\n",
       "    </tr>\n",
       "    <tr>\n",
       "      <th>1</th>\n",
       "      <td>2824 Milton Rd</td>\n",
       "      <td>{'GoodForMeal': {'dessert': False, 'latenight'...</td>\n",
       "      <td>mLwM-h2YhXl2NCgdS84_Bw</td>\n",
       "      <td>[Food, Soul Food, Convenience Stores, Restaura...</td>\n",
       "      <td>Charlotte</td>\n",
       "      <td>{'Monday': '10:00-22:00', 'Tuesday': '10:00-22...</td>\n",
       "      <td>0</td>\n",
       "      <td>35.236870</td>\n",
       "      <td>-80.741976</td>\n",
       "      <td>South Florida Style Chicken &amp; Ribs</td>\n",
       "      <td>Eastland</td>\n",
       "      <td>28215</td>\n",
       "      <td>4</td>\n",
       "      <td>4.5</td>\n",
       "      <td>NC</td>\n",
       "    </tr>\n",
       "    <tr>\n",
       "      <th>2</th>\n",
       "      <td>337 Danforth Avenue</td>\n",
       "      <td>{'BusinessParking': {'garage': False, 'street'...</td>\n",
       "      <td>v2WhjAB3PIBA8J8VxG3wEg</td>\n",
       "      <td>[Food, Coffee &amp; Tea]</td>\n",
       "      <td>Toronto</td>\n",
       "      <td>{'Monday': '10:00-19:00', 'Tuesday': '10:00-19...</td>\n",
       "      <td>0</td>\n",
       "      <td>43.677126</td>\n",
       "      <td>-79.353285</td>\n",
       "      <td>The Tea Emporium</td>\n",
       "      <td>Riverdale</td>\n",
       "      <td>M4K 1N7</td>\n",
       "      <td>7</td>\n",
       "      <td>4.5</td>\n",
       "      <td>ON</td>\n",
       "    </tr>\n",
       "    <tr>\n",
       "      <th>3</th>\n",
       "      <td>7702 E Doubletree Ranch Rd, Ste 300</td>\n",
       "      <td>{}</td>\n",
       "      <td>CVtCbSB1zUcUWg-9TNGTuQ</td>\n",
       "      <td>[Professional Services, Matchmakers]</td>\n",
       "      <td>Scottsdale</td>\n",
       "      <td>{'Friday': '9:00-17:00', 'Tuesday': '9:00-17:0...</td>\n",
       "      <td>1</td>\n",
       "      <td>33.565082</td>\n",
       "      <td>-111.916400</td>\n",
       "      <td>TRUmatch</td>\n",
       "      <td></td>\n",
       "      <td>85258</td>\n",
       "      <td>3</td>\n",
       "      <td>3.0</td>\n",
       "      <td>AZ</td>\n",
       "    </tr>\n",
       "    <tr>\n",
       "      <th>4</th>\n",
       "      <td>4719 N 20Th St</td>\n",
       "      <td>{'RestaurantsTableService': False, 'GoodForMea...</td>\n",
       "      <td>duHFBe87uNSXImQmvBh87Q</td>\n",
       "      <td>[Sandwiches, Restaurants]</td>\n",
       "      <td>Phoenix</td>\n",
       "      <td>{}</td>\n",
       "      <td>0</td>\n",
       "      <td>33.505928</td>\n",
       "      <td>-112.038847</td>\n",
       "      <td>Blimpie</td>\n",
       "      <td></td>\n",
       "      <td>85016</td>\n",
       "      <td>10</td>\n",
       "      <td>4.5</td>\n",
       "      <td>AZ</td>\n",
       "    </tr>\n",
       "  </tbody>\n",
       "</table>\n",
       "</div>"
      ],
      "text/plain": [
       "                               address  \\\n",
       "0                      691 Richmond Rd   \n",
       "1                       2824 Milton Rd   \n",
       "2                  337 Danforth Avenue   \n",
       "3  7702 E Doubletree Ranch Rd, Ste 300   \n",
       "4                       4719 N 20Th St   \n",
       "\n",
       "                                          attributes             business_id  \\\n",
       "0  {'RestaurantsPriceRange2': 2, 'BusinessParking...  YDf95gJZaq05wvo7hTQbbQ   \n",
       "1  {'GoodForMeal': {'dessert': False, 'latenight'...  mLwM-h2YhXl2NCgdS84_Bw   \n",
       "2  {'BusinessParking': {'garage': False, 'street'...  v2WhjAB3PIBA8J8VxG3wEg   \n",
       "3                                                 {}  CVtCbSB1zUcUWg-9TNGTuQ   \n",
       "4  {'RestaurantsTableService': False, 'GoodForMea...  duHFBe87uNSXImQmvBh87Q   \n",
       "\n",
       "                                          categories              city  \\\n",
       "0                       [Shopping, Shopping Centers]  Richmond Heights   \n",
       "1  [Food, Soul Food, Convenience Stores, Restaura...         Charlotte   \n",
       "2                               [Food, Coffee & Tea]           Toronto   \n",
       "3               [Professional Services, Matchmakers]        Scottsdale   \n",
       "4                          [Sandwiches, Restaurants]           Phoenix   \n",
       "\n",
       "                                               hours  is_open   latitude  \\\n",
       "0  {'Monday': '10:00-21:00', 'Tuesday': '10:00-21...        1  41.541716   \n",
       "1  {'Monday': '10:00-22:00', 'Tuesday': '10:00-22...        0  35.236870   \n",
       "2  {'Monday': '10:00-19:00', 'Tuesday': '10:00-19...        0  43.677126   \n",
       "3  {'Friday': '9:00-17:00', 'Tuesday': '9:00-17:0...        1  33.565082   \n",
       "4                                                 {}        0  33.505928   \n",
       "\n",
       "    longitude                                name neighborhood postal_code  \\\n",
       "0  -81.493116                Richmond Town Square                    44143   \n",
       "1  -80.741976  South Florida Style Chicken & Ribs     Eastland       28215   \n",
       "2  -79.353285                    The Tea Emporium    Riverdale     M4K 1N7   \n",
       "3 -111.916400                            TRUmatch                    85258   \n",
       "4 -112.038847                             Blimpie                    85016   \n",
       "\n",
       "   review_count  stars state  \n",
       "0            17    2.0    OH  \n",
       "1             4    4.5    NC  \n",
       "2             7    4.5    ON  \n",
       "3             3    3.0    AZ  \n",
       "4            10    4.5    AZ  "
      ]
     },
     "execution_count": 12,
     "metadata": {},
     "output_type": "execute_result"
    }
   ],
   "source": [
    "copy_business.head()"
   ]
  },
  {
   "cell_type": "code",
   "execution_count": 13,
   "metadata": {},
   "outputs": [
    {
     "data": {
      "text/plain": [
       "103325    6979\n",
       "125404    6417\n",
       "45588     5632\n",
       "114018    5429\n",
       "100916    4789\n",
       "Name: review_count, dtype: int64"
      ]
     },
     "execution_count": 13,
     "metadata": {},
     "output_type": "execute_result"
    }
   ],
   "source": [
    "# Sort business review\n",
    "highest_review = business_df.review_count.sort_values(ascending=False)\n",
    "highest_review.head()"
   ]
  },
  {
   "cell_type": "code",
   "execution_count": 14,
   "metadata": {
    "collapsed": true
   },
   "outputs": [],
   "source": [
    "target_location = copy_business.iloc[[103325]]"
   ]
  },
  {
   "cell_type": "code",
   "execution_count": 15,
   "metadata": {},
   "outputs": [
    {
     "data": {
      "text/html": [
       "<div>\n",
       "<style>\n",
       "    .dataframe thead tr:only-child th {\n",
       "        text-align: right;\n",
       "    }\n",
       "\n",
       "    .dataframe thead th {\n",
       "        text-align: left;\n",
       "    }\n",
       "\n",
       "    .dataframe tbody tr th {\n",
       "        vertical-align: top;\n",
       "    }\n",
       "</style>\n",
       "<table border=\"1\" class=\"dataframe\">\n",
       "  <thead>\n",
       "    <tr style=\"text-align: right;\">\n",
       "      <th></th>\n",
       "      <th>address</th>\n",
       "      <th>attributes</th>\n",
       "      <th>business_id</th>\n",
       "      <th>categories</th>\n",
       "      <th>city</th>\n",
       "      <th>hours</th>\n",
       "      <th>is_open</th>\n",
       "      <th>latitude</th>\n",
       "      <th>longitude</th>\n",
       "      <th>name</th>\n",
       "      <th>neighborhood</th>\n",
       "      <th>postal_code</th>\n",
       "      <th>review_count</th>\n",
       "      <th>stars</th>\n",
       "      <th>state</th>\n",
       "    </tr>\n",
       "  </thead>\n",
       "  <tbody>\n",
       "    <tr>\n",
       "      <th>103325</th>\n",
       "      <td>3655 Las Vegas Blvd S</td>\n",
       "      <td>{'Alcohol': 'full_bar', 'HasTV': False, 'Noise...</td>\n",
       "      <td>4JNXUYY8wbaaDmk3BPzlWw</td>\n",
       "      <td>[French, Steakhouses, Breakfast &amp; Brunch, Rest...</td>\n",
       "      <td>Las Vegas</td>\n",
       "      <td>{'Monday': '7:00-23:00', 'Tuesday': '7:00-23:0...</td>\n",
       "      <td>1</td>\n",
       "      <td>36.112827</td>\n",
       "      <td>-115.172581</td>\n",
       "      <td>Mon Ami Gabi</td>\n",
       "      <td>The Strip</td>\n",
       "      <td>89109</td>\n",
       "      <td>6979</td>\n",
       "      <td>4.0</td>\n",
       "      <td>NV</td>\n",
       "    </tr>\n",
       "  </tbody>\n",
       "</table>\n",
       "</div>"
      ],
      "text/plain": [
       "                      address  \\\n",
       "103325  3655 Las Vegas Blvd S   \n",
       "\n",
       "                                               attributes  \\\n",
       "103325  {'Alcohol': 'full_bar', 'HasTV': False, 'Noise...   \n",
       "\n",
       "                   business_id  \\\n",
       "103325  4JNXUYY8wbaaDmk3BPzlWw   \n",
       "\n",
       "                                               categories       city  \\\n",
       "103325  [French, Steakhouses, Breakfast & Brunch, Rest...  Las Vegas   \n",
       "\n",
       "                                                    hours  is_open   latitude  \\\n",
       "103325  {'Monday': '7:00-23:00', 'Tuesday': '7:00-23:0...        1  36.112827   \n",
       "\n",
       "         longitude          name neighborhood postal_code  review_count  \\\n",
       "103325 -115.172581  Mon Ami Gabi    The Strip       89109          6979   \n",
       "\n",
       "        stars state  \n",
       "103325    4.0    NV  "
      ]
     },
     "execution_count": 15,
     "metadata": {},
     "output_type": "execute_result"
    }
   ],
   "source": [
    "target_location.head()"
   ]
  },
  {
   "cell_type": "code",
   "execution_count": 16,
   "metadata": {
    "collapsed": true
   },
   "outputs": [],
   "source": [
    "target_review = copy_review[copy_review['business_id'] == target_location.business_id.values[0]]\n",
    "target_review = target_review.reset_index(drop=True)"
   ]
  },
  {
   "cell_type": "code",
   "execution_count": 17,
   "metadata": {},
   "outputs": [
    {
     "data": {
      "text/html": [
       "<div>\n",
       "<style>\n",
       "    .dataframe thead tr:only-child th {\n",
       "        text-align: right;\n",
       "    }\n",
       "\n",
       "    .dataframe thead th {\n",
       "        text-align: left;\n",
       "    }\n",
       "\n",
       "    .dataframe tbody tr th {\n",
       "        vertical-align: top;\n",
       "    }\n",
       "</style>\n",
       "<table border=\"1\" class=\"dataframe\">\n",
       "  <thead>\n",
       "    <tr style=\"text-align: right;\">\n",
       "      <th></th>\n",
       "      <th>business_id</th>\n",
       "      <th>cool</th>\n",
       "      <th>date</th>\n",
       "      <th>funny</th>\n",
       "      <th>review_id</th>\n",
       "      <th>stars</th>\n",
       "      <th>text</th>\n",
       "      <th>useful</th>\n",
       "      <th>user_id</th>\n",
       "    </tr>\n",
       "  </thead>\n",
       "  <tbody>\n",
       "    <tr>\n",
       "      <th>0</th>\n",
       "      <td>4JNXUYY8wbaaDmk3BPzlWw</td>\n",
       "      <td>0</td>\n",
       "      <td>2011-02-22</td>\n",
       "      <td>0</td>\n",
       "      <td>WE9eUYf5EV8AxJjl8QZRtA</td>\n",
       "      <td>5</td>\n",
       "      <td>Very chic. Although, the menu items doesnt SCR...</td>\n",
       "      <td>0</td>\n",
       "      <td>K6FpHYwcJYznoXXu8ySZHw</td>\n",
       "    </tr>\n",
       "    <tr>\n",
       "      <th>1</th>\n",
       "      <td>4JNXUYY8wbaaDmk3BPzlWw</td>\n",
       "      <td>0</td>\n",
       "      <td>2015-04-15</td>\n",
       "      <td>0</td>\n",
       "      <td>7Fl41hKa0wjO3TlvHKD3lw</td>\n",
       "      <td>4</td>\n",
       "      <td>Cute french bistro with great service. I came ...</td>\n",
       "      <td>1</td>\n",
       "      <td>3SGQKsO1J-jcRIp3WNxCeA</td>\n",
       "    </tr>\n",
       "    <tr>\n",
       "      <th>2</th>\n",
       "      <td>4JNXUYY8wbaaDmk3BPzlWw</td>\n",
       "      <td>0</td>\n",
       "      <td>2013-11-11</td>\n",
       "      <td>0</td>\n",
       "      <td>Jm4iOfsltS3T59puoV6r8Q</td>\n",
       "      <td>5</td>\n",
       "      <td>The food is very good, the prices fair and the...</td>\n",
       "      <td>0</td>\n",
       "      <td>LPT8XlpXlHGAp0Ri4Hu4Rw</td>\n",
       "    </tr>\n",
       "    <tr>\n",
       "      <th>3</th>\n",
       "      <td>4JNXUYY8wbaaDmk3BPzlWw</td>\n",
       "      <td>3</td>\n",
       "      <td>2015-12-28</td>\n",
       "      <td>2</td>\n",
       "      <td>m6lwvXPCdpKHVp05Bjkhlw</td>\n",
       "      <td>5</td>\n",
       "      <td>One of my favorite go-to brunch spots on the L...</td>\n",
       "      <td>8</td>\n",
       "      <td>3NnPbhmv_vEfPTBp2pnn9Q</td>\n",
       "    </tr>\n",
       "    <tr>\n",
       "      <th>4</th>\n",
       "      <td>4JNXUYY8wbaaDmk3BPzlWw</td>\n",
       "      <td>0</td>\n",
       "      <td>2015-09-16</td>\n",
       "      <td>0</td>\n",
       "      <td>nkb40j7kBe2qAci1xpyd3g</td>\n",
       "      <td>5</td>\n",
       "      <td>Simply amazing steak and frites. Got the blue ...</td>\n",
       "      <td>0</td>\n",
       "      <td>xl4rsQqpibUNhR8Jqxp4OQ</td>\n",
       "    </tr>\n",
       "  </tbody>\n",
       "</table>\n",
       "</div>"
      ],
      "text/plain": [
       "              business_id  cool        date  funny               review_id  \\\n",
       "0  4JNXUYY8wbaaDmk3BPzlWw     0  2011-02-22      0  WE9eUYf5EV8AxJjl8QZRtA   \n",
       "1  4JNXUYY8wbaaDmk3BPzlWw     0  2015-04-15      0  7Fl41hKa0wjO3TlvHKD3lw   \n",
       "2  4JNXUYY8wbaaDmk3BPzlWw     0  2013-11-11      0  Jm4iOfsltS3T59puoV6r8Q   \n",
       "3  4JNXUYY8wbaaDmk3BPzlWw     3  2015-12-28      2  m6lwvXPCdpKHVp05Bjkhlw   \n",
       "4  4JNXUYY8wbaaDmk3BPzlWw     0  2015-09-16      0  nkb40j7kBe2qAci1xpyd3g   \n",
       "\n",
       "   stars                                               text  useful  \\\n",
       "0      5  Very chic. Although, the menu items doesnt SCR...       0   \n",
       "1      4  Cute french bistro with great service. I came ...       1   \n",
       "2      5  The food is very good, the prices fair and the...       0   \n",
       "3      5  One of my favorite go-to brunch spots on the L...       8   \n",
       "4      5  Simply amazing steak and frites. Got the blue ...       0   \n",
       "\n",
       "                  user_id  \n",
       "0  K6FpHYwcJYznoXXu8ySZHw  \n",
       "1  3SGQKsO1J-jcRIp3WNxCeA  \n",
       "2  LPT8XlpXlHGAp0Ri4Hu4Rw  \n",
       "3  3NnPbhmv_vEfPTBp2pnn9Q  \n",
       "4  xl4rsQqpibUNhR8Jqxp4OQ  "
      ]
     },
     "execution_count": 17,
     "metadata": {},
     "output_type": "execute_result"
    }
   ],
   "source": [
    "target_review.head()"
   ]
  },
  {
   "cell_type": "markdown",
   "metadata": {},
   "source": [
    "# Conclusion\n",
    "After reviewing our data, sorting, and figuring out which business had the most review, we came to the conclusion of what business we will move forward with. Our selected business is name Mon Ami Gabi and is located in the middle of Las Vegas stripe. This resturant gives our 6979 reviews for us to apply NLP."
   ]
  },
  {
   "cell_type": "code",
   "execution_count": null,
   "metadata": {
    "collapsed": true
   },
   "outputs": [],
   "source": []
  },
  {
   "cell_type": "code",
   "execution_count": null,
   "metadata": {
    "collapsed": true
   },
   "outputs": [],
   "source": []
  },
  {
   "cell_type": "code",
   "execution_count": null,
   "metadata": {
    "collapsed": true
   },
   "outputs": [],
   "source": []
  },
  {
   "cell_type": "markdown",
   "metadata": {},
   "source": [
    "# What is the frequency of stars given for this resutrant?\n",
    "We want to run thorugh the dataframe star series and convert this into something that is more appealing to the human eye. By introducing a bar chart, we can clearly see the distrubition and the frequecy of stars given for this resturant."
   ]
  },
  {
   "cell_type": "code",
   "execution_count": 18,
   "metadata": {
    "collapsed": true
   },
   "outputs": [],
   "source": [
    "def stars_freq(target):\n",
    "    # Plot histogram of review stars\n",
    "    star_count = pd.DataFrame({'stars':target.stars})\n",
    "\n",
    "    # Count number of frequency\n",
    "    labels, values = zip(*Counter(star_count.stars).items())\n",
    "\n",
    "    # Create index for bar chart\n",
    "    index = np.arange(len(labels))\n",
    "    \n",
    "    # Plot the freq hisotgram\n",
    "    _ = plt.bar(labels, values, edgecolor = \"black\", color='teal')\n",
    "    _ = plt.xlabel(\"Stars\")\n",
    "    _ = plt.ylabel(\"Frequecy\")\n",
    "    _ = plt.title('Frequency of Stars Given')\n",
    "    plt.show()\n",
    "    \n",
    "    # Print frequency information\n",
    "    print(labels)\n",
    "    print(values)\n",
    "    \n",
    "    # Create a percentage list from the review\n",
    "    star_percentage = [(value / len(target_review.stars)) * 100 for value in values]\n",
    "    star_percentage = zip(labels, star_percentage)\n",
    "    star_percentage = set(star_percentage)\n",
    "\n",
    "    for x in star_percentage:\n",
    "        print(x)"
   ]
  },
  {
   "cell_type": "code",
   "execution_count": 19,
   "metadata": {},
   "outputs": [
    {
     "data": {
      "image/png": "[encoded data removed]",
      "text/plain": [
       "<matplotlib.figure.Figure at 0x1a3229cb00>"
      ]
     },
     "metadata": {},
     "output_type": "display_data"
    },
    {
     "name": "stdout",
     "output_type": "stream",
     "text": [
      "(5, 4, 3, 2, 1)\n",
      "(3073, 2471, 809, 400, 225)\n",
      "(1, 3.224419604471195)\n",
      "(5, 44.0384064201777)\n",
      "(3, 11.593579822298652)\n",
      "(4, 35.411292633992545)\n",
      "(2, 5.732301519059903)\n"
     ]
    }
   ],
   "source": [
    "stars_freq(target_review)"
   ]
  },
  {
   "cell_type": "markdown",
   "metadata": {},
   "source": [
    "This resturant shows has a very high satisfaction rate when it comes to stars given for the resturant. What the bar chart tells us is that the resutanrt received the number of ratings listed below:\n",
    "\n",
    "    5 Star: 3073 (44.03%)\n",
    "    4 Star: 2471 (35.41%)\n",
    "    3 Star: 809  (11.59%)\n",
    "    2 Star: 400  (5.73%)\n",
    "    1 Star: 225  (3.22%)\n",
    "    \n",
    "This resturant clearly shows that it is providing their customers with the best service possible. There is clearly a possivite relationship between the serivce provided and the stars given by the users."
   ]
  },
  {
   "cell_type": "code",
   "execution_count": 20,
   "metadata": {
    "collapsed": true
   },
   "outputs": [],
   "source": [
    "def review_by_date(target, star):\n",
    "    \n",
    "    # Create a temp df and cast date series to datetime64\n",
    "    temp_df = target\n",
    "    temp_df.date = pd.to_datetime(target.date)\n",
    "    \n",
    "    target_date = []\n",
    "    \n",
    "    # Iterate through df series to get name of the weekday and append to a list\n",
    "    for x in temp_df.date:\n",
    "        target_date.append(x.weekday_name)\n",
    "        \n",
    "    temp_df['day'] = target_date\n",
    "    \n",
    "    test = temp_df[temp_df.stars == star]\n",
    "    \n",
    "    # Count number of frequency\n",
    "    labels, values = zip(*Counter(test.day).items())\n",
    "    \n",
    "    # Create index for bar chart\n",
    "    index = np.arange(len(labels))\n",
    "    \n",
    "    plt.bar(index, values, edgecolor='black')\n",
    "    plt.xticks(index, labels)\n",
    "    plt.xlabel('Days Of The Week')\n",
    "    plt.ylabel(\"Review Count\")\n",
    "    \n",
    "#     test = target[(target.stars == 1) | (target.stars == 5)]\n",
    "#     test['star_count'] = test.stars\n",
    "    \n",
    "#     test_group = test.groupby(['day', 'stars']).sum().reset_index()\n",
    "#     test_pivot = test_group.pivot('day','stars','star_count').reset_index()\n",
    "    \n",
    "#     weekdays = ['Monday', 'Tuesday', 'Wednesday', 'Thursday', 'Friday', 'Saturday', 'Sunday']\n",
    "    \n",
    "#     mapping = {day: i for i, day in enumerate(weekdays)}\n",
    "#     key = test_pivot['day'].map(mapping)    \n",
    "#     test_pivot = test_pivot.iloc[key.argsort()]\n",
    "\n",
    "#     # Draw the bar chart\n",
    "#     test_pivot.plot(kind='bar', x='day')\n",
    "\n",
    "    plt.show()"
   ]
  },
  {
   "cell_type": "code",
   "execution_count": 21,
   "metadata": {},
   "outputs": [
    {
     "data": {
      "image/png": "[encoded data removed]",
      "text/plain": [
       "<matplotlib.figure.Figure at 0x1a36728c18>"
      ]
     },
     "metadata": {},
     "output_type": "display_data"
    },
    {
     "data": {
      "image/png": "[encoded data removed]",
      "text/plain": [
       "<matplotlib.figure.Figure at 0x1a355a2390>"
      ]
     },
     "metadata": {},
     "output_type": "display_data"
    }
   ],
   "source": [
    "review_by_date(target_review, 1)\n",
    "review_by_date(target_review, 5)"
   ]
  },
  {
   "cell_type": "markdown",
   "metadata": {},
   "source": [
    "This bar graph lets us see which day of the week the resturant experience the worst & best service. Clearly we can see that "
   ]
  },
  {
   "cell_type": "markdown",
   "metadata": {},
   "source": [
    "# What features is causing this resturant to do so well?"
   ]
  },
  {
   "cell_type": "markdown",
   "metadata": {},
   "source": [
    "# Find out word frequency\n",
    "We want to tokenize out each review and be able to find out the most common words being used by users. In order to do so, we will iterate through the dataset and call nltk tokenize. This will create a list of words, which we will then append to a list. However, this will create a list of list, which we will then flatten out with list comprehension and make all words lower case. We also want to tweak our algorithm in order to remove common words and puncuations, because nltk recongize those as words and will be irrelevant to our frequency count."
   ]
  },
  {
   "cell_type": "code",
   "execution_count": 22,
   "metadata": {
    "collapsed": true
   },
   "outputs": [],
   "source": [
    "# Create an empty list\n",
    "all_words = []\n",
    "\n",
    "# Iterate through the reviews, token them, and append to all word list\n",
    "for text in target_review.text:\n",
    "    word = nltk.word_tokenize(text)\n",
    "    all_words.append(word)\n",
    "\n",
    "# Flatten out the list of list so it only contains words per element\n",
    "all_words = [w.lower() for sublist in all_words for w in sublist]"
   ]
  },
  {
   "cell_type": "code",
   "execution_count": 23,
   "metadata": {},
   "outputs": [
    {
     "name": "stdout",
     "output_type": "stream",
     "text": [
      "[('.', 51969), ('the', 48836), (',', 30171), ('and', 28586), ('a', 21683), ('i', 21442), ('was', 21104), ('to', 16395), ('it', 13816), ('of', 12661), ('for', 11110), ('!', 10745), ('we', 10577), ('is', 8817), ('in', 8423), ('with', 8289), ('my', 7233), ('but', 7232), ('had', 6928), ('on', 6870), ('that', 6262), ('were', 6145), ('you', 6140), ('this', 5780), ('food', 4950), ('good', 4887), (\"n't\", 4818), ('not', 4601), ('great', 4592), ('so', 4590), ('our', 4465), ('they', 4214), (')', 4020), ('have', 4012), ('at', 3947), ('very', 3656), ('here', 3627), ('(', 3614), (\"'s\", 3612), ('steak', 3562), ('as', 3525), ('service', 3476), ('vegas', 3192), ('place', 3157), ('be', 2950), ('french', 2892), ('are', 2803), ('if', 2649), ('which', 2628), ('...', 2626), ('just', 2513), ('patio', 2426), ('all', 2418), ('there', 2407), ('time', 2366), ('ordered', 2359), ('restaurant', 2330), ('would', 2319), ('like', 2266), ('bellagio', 2257), ('one', 2227), ('out', 2223), ('really', 2148), ('get', 2053), ('delicious', 2033), ('did', 2027), ('view', 2003), ('their', 1971), ('us', 1959), ('from', 1925), ('nice', 1912), ('-', 1892), ('dinner', 1891), (':', 1866), ('an', 1858), ('also', 1842), ('outside', 1814), ('came', 1804), ('got', 1791), ('table', 1785), ('mon', 1779), ('ami', 1779), ('strip', 1777), ('back', 1747), ('too', 1729), ('bread', 1727), ('do', 1725), ('or', 1684), ('best', 1684), ('when', 1675), ('me', 1671), ('about', 1645), ('breakfast', 1622), ('gabi', 1606), ('go', 1590), ('wait', 1580), ('can', 1508), ('well', 1508), ('amazing', 1406), ('frites', 1380)]\n"
     ]
    }
   ],
   "source": [
    "all_words = nltk.FreqDist(all_words)\n",
    "print(all_words.most_common(100))"
   ]
  },
  {
   "cell_type": "code",
   "execution_count": null,
   "metadata": {
    "collapsed": true
   },
   "outputs": [],
   "source": []
  },
  {
   "cell_type": "code",
   "execution_count": null,
   "metadata": {
    "collapsed": true
   },
   "outputs": [],
   "source": []
  },
  {
   "cell_type": "markdown",
   "metadata": {},
   "source": [
    "# Converting all reviews into a review vector"
   ]
  },
  {
   "cell_type": "code",
   "execution_count": 32,
   "metadata": {
    "collapsed": true
   },
   "outputs": [],
   "source": [
    "def remove_stop_words(review):\n",
    "\n",
    "    # Remove punctuations, split by space, and remove stop words\n",
    "    review = re.sub(r'[^\\w\\s]','',review).lower()\n",
    "    review = review.split(' ')\n",
    "    review = [word for word in review if word not in nltk.corpus.stopwords.words('english')]\n",
    "    \n",
    "    return review"
   ]
  },
  {
   "cell_type": "code",
   "execution_count": 157,
   "metadata": {},
   "outputs": [],
   "source": [
    "# Create empty string\n",
    "raw_doc = \"\"\n",
    "\n",
    "# Iterate through the reviews and store it into a raw source\n",
    "for count, x in enumerate(target_review.text):\n",
    "    raw_doc += x\n",
    "\n",
    "# Create new file to write raw string to\n",
    "review_file = open('Review_Doc.txt', 'w')\n",
    "review_file.write(raw_doc)\n",
    "review_file.close()"
   ]
  },
  {
   "cell_type": "code",
   "execution_count": 176,
   "metadata": {},
   "outputs": [],
   "source": [
    "# Import vector file from fasttext\n",
    "try:\n",
    "    review_vec_file = open('../../DataScience/yelp_dataset/Reivew_Vec_Out.vec')\n",
    "except IOError:\n",
    "    print(\"File doesn't exsist\")\n",
    "    \n",
    "nWords = 7888\n",
    "\n",
    "# Create a matrix filled with 0's (7888 x 100)\n",
    "embVectors = np.mat(np.zeros((nWords, 100)))\n",
    "embIndices = {}\n",
    "\n",
    "# Read first line and create a counter variable\n",
    "line = review_vec_file.readline()\n",
    "counter = 0\n",
    "\n",
    "for line_pos in range(0, nWords):\n",
    "    \n",
    "    # Read the next line in vector file and split it up and lowercase the word\n",
    "    line = review_vec_file.readline()\n",
    "    line_split = line.split()\n",
    "    word = line_split[0].lower()\n",
    "    \n",
    "    # Iterate through the vectors of the word\n",
    "    if word not in embIndices:\n",
    "        try:\n",
    "            # Get vector array from index 1 to 100\n",
    "            vec = np.array([float(x) for x in line_split[1:]])\n",
    "            \n",
    "            # Normalize \n",
    "            vec = vec / np.sqrt(np.dot(vec, vec))\n",
    "            \n",
    "            # Create a word reference list\n",
    "            embIndices[word] = counter\n",
    "            embVectors[counter, : ] = vec\n",
    "            \n",
    "            counter += 1\n",
    "            \n",
    "        except:\n",
    "            continue\n",
    "            \n",
    "review_vec_file.close()"
   ]
  },
  {
   "cell_type": "code",
   "execution_count": 178,
   "metadata": {},
   "outputs": [
    {
     "data": {
      "text/plain": [
       "matrix([[ 0.07469036,  0.0146185 , -0.16116832, -0.08068287, -0.12727386,\n",
       "         -0.1075895 , -0.07467803, -0.15708009, -0.02649328, -0.0816823 ,\n",
       "         -0.01325219,  0.02196086, -0.09634481, -0.14329774,  0.18148196,\n",
       "          0.1672184 , -0.034031  , -0.050671  ,  0.11402208,  0.0189243 ,\n",
       "         -0.07190593,  0.08654787, -0.04413148,  0.01765465,  0.16592695,\n",
       "          0.07498649,  0.02869163, -0.25689208,  0.08438037,  0.05253826,\n",
       "          0.20457592, -0.01557763,  0.0326832 , -0.06055842, -0.00533896,\n",
       "         -0.05229148, -0.08241029, -0.11069885, -0.24364441, -0.00868605,\n",
       "         -0.04774672, -0.19796237,  0.1612917 ,  0.0440122 , -0.0542739 ,\n",
       "          0.15285202,  0.00763232,  0.00280718, -0.12049168,  0.13092612,\n",
       "         -0.15701017,  0.07267093, -0.02818081, -0.05279326,  0.00665756,\n",
       "         -0.15524985, -0.00535994, -0.09636126,  0.0403768 , -0.11806507,\n",
       "          0.05833745, -0.15471105,  0.09961869,  0.2053656 ,  0.01267885,\n",
       "         -0.06155786,  0.19597584, -0.06511552, -0.05015277, -0.03185939,\n",
       "          0.09880022,  0.04004777, -0.08680698, -0.07272028, -0.13422056,\n",
       "          0.11722603, -0.06191979, -0.04223954, -0.03463066,  0.1002274 ,\n",
       "          0.03124986,  0.05011164,  0.03117007, -0.03028003,  0.09316142,\n",
       "         -0.08309303,  0.12619628,  0.04116196,  0.00785195, -0.16780243,\n",
       "         -0.0502268 ,  0.07886085, -0.10182732, -0.03161179,  0.06249149,\n",
       "          0.01288327, -0.02802863,  0.16104082,  0.06569544,  0.02505212]])"
      ]
     },
     "execution_count": 178,
     "metadata": {},
     "output_type": "execute_result"
    }
   ],
   "source": []
  },
  {
   "cell_type": "code",
   "execution_count": null,
   "metadata": {
    "collapsed": true
   },
   "outputs": [],
   "source": []
  }
 ],
 "metadata": {
  "kernelspec": {
   "display_name": "Python 3",
   "language": "python",
   "name": "python3"
  },
  "language_info": {
   "codemirror_mode": {
    "name": "ipython",
    "version": 3
   },
   "file_extension": ".py",
   "mimetype": "text/x-python",
   "name": "python",
   "nbconvert_exporter": "python",
   "pygments_lexer": "ipython3",
   "version": "3.6.2"
  }
 },
 "nbformat": 4,
 "nbformat_minor": 2
}
